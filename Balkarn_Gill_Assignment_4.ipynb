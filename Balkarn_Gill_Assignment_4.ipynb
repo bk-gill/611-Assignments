{
  "cells": [
    {
      "cell_type": "markdown",
      "id": "92778525",
      "metadata": {
        "id": "92778525"
      },
      "source": [
        "# Assignment 4: Pipelines and Hyperparameter Tuning (32 total marks)\n",
        "### Due: November 22 at 11:59pm\n",
        "\n",
        "### Name: Balkarn Gill - 30202219"
      ]
    },
    {
      "cell_type": "markdown",
      "id": "ce31b39a",
      "metadata": {
        "id": "ce31b39a"
      },
      "source": [
        "### In this assignment, you will be putting together everything you have learned so far. You will need to find your own dataset, do all the appropriate preprocessing, test different supervised learning models and evaluate the results. More details for each step can be found below.\n",
        "\n",
        "### You will also be asked to describe the process by which you came up with the code. More details can be found below. Please cite any websites or AI tools that you used to help you with this assignment."
      ]
    },
    {
      "cell_type": "markdown",
      "id": "cf275ca7",
      "metadata": {
        "id": "cf275ca7"
      },
      "source": [
        "## Import Libraries"
      ]
    },
    {
      "cell_type": "code",
      "execution_count": null,
      "id": "2b67a661",
      "metadata": {
        "id": "2b67a661"
      },
      "outputs": [],
      "source": [
        "import numpy as np\n",
        "import pandas as pd"
      ]
    },
    {
      "cell_type": "markdown",
      "id": "8219f163",
      "metadata": {
        "id": "8219f163"
      },
      "source": [
        "## Step 1: Data Input (4 marks)\n",
        "\n",
        "Import the dataset you will be using. You can download the dataset onto your computer and read it in using pandas, or download it directly from the website. Answer the questions below about the dataset you selected.\n",
        "\n",
        "To find a dataset, you can use the resources listed in the notes. The dataset can be numerical, categorical, text-based or mixed. If you want help finding a particular dataset related to your interests, please email the instructor.\n",
        "\n",
        "**You cannot use a dataset that was used for a previous assignment or in class**"
      ]
    },
    {
      "cell_type": "code",
      "execution_count": null,
      "id": "2af8bd32",
      "metadata": {
        "colab": {
          "base_uri": "https://localhost:8080/"
        },
        "id": "2af8bd32",
        "outputId": "2104dec3-8f21-432c-ba25-128bf06288e0"
      },
      "outputs": [
        {
          "output_type": "stream",
          "name": "stdout",
          "text": [
            "Index(['SquareFeet', 'Bedrooms', 'Bathrooms', 'Neighborhood', 'YearBuilt'], dtype='object')\n"
          ]
        }
      ],
      "source": [
        "# Import dataset (1 mark)\n",
        "\n",
        "import pandas as pd\n",
        "\n",
        "# Load the dataset\n",
        "file_path = 'housing_price_dataset.csv'  # Use the correct file name\n",
        "housing_data = pd.read_csv(file_path)\n",
        "\n",
        "# Feature matrix (X) - all columns except 'Price'\n",
        "X = housing_data.drop('Price', axis=1)\n",
        "\n",
        "# Target vector (y) - 'Price' column\n",
        "y = housing_data['Price']\n",
        "print(X.columns)"
      ]
    },
    {
      "cell_type": "markdown",
      "id": "20316765",
      "metadata": {
        "id": "20316765"
      },
      "source": [
        "### Questions (3 marks)\n",
        "\n",
        "1. (1 mark) What is the source of your dataset?\n",
        "\n",
        "I got this dataset from Kaggle.\n",
        "\n",
        "1. (1 mark) Why did you pick this particular dataset?\n",
        "\n",
        "I chose this dataset because it offers a practical and relevant problem in the field of machine learning, particularly in regression analysis. Housing price prediction is a common real-world application of machine learning, making this dataset a valuable resource for understanding how to handle and analyze real-world data. Its mix of numerical and categorical data, along with a clear target variable (Price), provides a good opportunity to apply various data preprocessing and machine learning techniques.\n",
        "\n",
        "\n",
        "1. (1 mark) Was there anything challenging about finding a dataset that you wanted to use?\n",
        "\n",
        "The main challenge in finding a suitable dataset could have been ensuring that it is well-suited for the intended analysis, in this case, predictive modeling. It's important to find a dataset that is not only relevant to the topic of interest but also has a good mix of features, a reasonable size, and minimal missing or inconsistent data. Additionally, if you were looking for open-source data, ensuring that the dataset has a clear and permissible usage license could also have been a challenge. Lastly, selecting a dataset that is neither too simplistic nor overly complex for your current skill level might have been a consideration.\n",
        "\n",
        "*ANSWER HERE*"
      ]
    },
    {
      "cell_type": "markdown",
      "id": "42fea4cc",
      "metadata": {
        "id": "42fea4cc"
      },
      "source": [
        "## Step 2: Data Processing (5 marks)\n",
        "\n",
        "The next step is to process your data. Implement the following steps as needed."
      ]
    },
    {
      "cell_type": "code",
      "execution_count": null,
      "id": "afc244d4",
      "metadata": {
        "colab": {
          "base_uri": "https://localhost:8080/"
        },
        "id": "afc244d4",
        "outputId": "281cc868-1245-4701-f652-f683d6c54f48"
      },
      "outputs": [
        {
          "output_type": "stream",
          "name": "stdout",
          "text": [
            "SquareFeet      0\n",
            "Bedrooms        0\n",
            "Bathrooms       0\n",
            "Neighborhood    0\n",
            "YearBuilt       0\n",
            "Price           0\n",
            "dtype: int64\n",
            "Index(['SquareFeet', 'Bedrooms', 'Bathrooms', 'Neighborhood', 'YearBuilt',\n",
            "       'Price'],\n",
            "      dtype='object')\n"
          ]
        }
      ],
      "source": [
        "# Clean data (if needed)\n",
        "\n",
        "# Check for missing values\n",
        "missing_values = housing_data.isnull().sum()\n",
        "\n",
        "print(missing_values)\n",
        "print(housing_data.columns)\n",
        "\n"
      ]
    },
    {
      "cell_type": "code",
      "execution_count": null,
      "id": "70a8c127",
      "metadata": {
        "id": "70a8c127"
      },
      "outputs": [],
      "source": [
        "# Implement preprocessing steps. Remember to use ColumnTransformer if more than one preprocessing method is needed\n",
        "\n",
        "from sklearn.compose import ColumnTransformer\n",
        "from sklearn.preprocessing import OneHotEncoder, StandardScaler\n",
        "from sklearn.pipeline import Pipeline\n",
        "from sklearn.impute import SimpleImputer\n",
        "\n",
        "# Identifying numerical and categorical columns\n",
        "numerical_cols = X.select_dtypes(include=['int64', 'float64']).columns\n",
        "categorical_cols = ['Neighborhood']  # Update as per your dataset\n",
        "\n",
        "# Define transformers\n",
        "numerical_transformer = Pipeline(steps=[\n",
        "    ('imputer', SimpleImputer(strategy='mean')),\n",
        "    ('scaler', StandardScaler())])\n",
        "\n",
        "categorical_transformer = Pipeline(steps=[\n",
        "    ('imputer', SimpleImputer(strategy='most_frequent')),\n",
        "    ('onehot', OneHotEncoder(handle_unknown='ignore'))])\n",
        "\n",
        "# ColumnTransformer\n",
        "preprocessor = ColumnTransformer(\n",
        "    transformers=[\n",
        "        ('num', numerical_transformer, numerical_cols),\n",
        "        ('cat', categorical_transformer, categorical_cols)])\n",
        "\n",
        "# Apply preprocessing to X\n",
        "X_preprocessed = preprocessor.fit_transform(X)\n"
      ]
    },
    {
      "cell_type": "markdown",
      "id": "b92c46b7",
      "metadata": {
        "id": "b92c46b7"
      },
      "source": [
        "### Questions (2 marks)\n",
        "\n",
        "1. (1 mark) Were there any missing/null values in your dataset? If yes, how did you replace them and why? If no, describe how you would've replaced them and why.\n",
        "\n",
        "There were no missing or null values in the dataset. However, if there had been missing values, the approach to handle them would depend on the nature of the data and the specific column. For numerical columns, missing values could be replaced with the mean or median of the column, as this can preserve the general distribution of the data. The mean is suitable for normally distributed data, while the median is preferred for skewed distributions to avoid the influence of outliers. For categorical columns, missing values could be replaced with the mode, which is the most frequently occurring category. Alternatively, for both numerical and categorical data, another approach could be to use more sophisticated imputation methods like K-Nearest Neighbors (KNN) or regression imputation, which can predict missing values based on the other available data.\n",
        "\n",
        "\n",
        "\n",
        "\n",
        "\n",
        "2. (1 mark) What type of data do you have? What preprocessing methods would you have to apply based on your data types?\n",
        "\n",
        "The dataset contains both numerical (e.g., 'SquareFeet', 'Bedrooms', 'Bathrooms', 'YearBuilt') and categorical data (e.g., 'Neighborhood'). For the numerical data, preprocessing methods such as standardization or normalization are often applied. Standardization (using StandardScaler in scikit-learn) rescales data to have a mean of 0 and a standard deviation of 1, which is particularly useful when different features have different scales and units. Normalization (using MinMaxScaler) rescales the features to a specific range, typically 0 to 1. This can be beneficial for algorithms that are sensitive to the scale of input data, like gradient descent-based algorithms. For the categorical data, since machine learning models require numerical input, converting categories to numbers is necessary. This can be done through one-hot encoding (using OneHotEncoder) which creates binary columns for each category of a variable. This method is particularly useful when there is no inherent order in the categorical variables. Another method is label encoding (using LabelEncoder), where each category is assigned a unique integer. However, this might imply an ordinal relationship where none exists, so it's generally preferred for ordinal data. For this dataset, one-hot encoding was used for the 'Neighborhood' column to capture the categorical information without implying any ordinal relationship.\n",
        "\n",
        "\n",
        "\n",
        "*ANSWER HERE*"
      ]
    },
    {
      "cell_type": "markdown",
      "id": "2a245d00",
      "metadata": {
        "id": "2a245d00"
      },
      "source": [
        "## Step 3: Implement Machine Learning Model (11 marks)\n",
        "\n",
        "In this section, you will implement three different supervised learning models (one linear and two non-linear) of your choice. You will use a pipeline to help you decide which model and hyperparameters work best. It is up to you to select what models to use and what hyperparameters to test. You can use the class examples for guidance. You must print out the best model parameters and results after the grid search."
      ]
    },
    {
      "cell_type": "code",
      "execution_count": null,
      "id": "5558a776",
      "metadata": {
        "colab": {
          "base_uri": "https://localhost:8080/"
        },
        "id": "5558a776",
        "outputId": "8794d0c5-6f55-4bff-e4cb-3e06fe1305a2"
      },
      "outputs": [
        {
          "output_type": "stream",
          "name": "stdout",
          "text": [
            "Best parameters for Linear Regression: {'regressor__fit_intercept': True, 'regressor__positive': True}\n",
            "Best score for Linear Regression: -2506412594.5019636\n",
            "Best parameters for Decision Tree Regressor: {'regressor__max_depth': 10, 'regressor__min_samples_split': 10}\n",
            "Best score for Decision Tree Regressor: -2772145233.9303474\n",
            "Best parameters for Random Forest Regressor: {'regressor__max_features': 1.0, 'regressor__n_estimators': 100}\n",
            "Best score for Random Forest Regressor: -2834640133.0141687\n"
          ]
        }
      ],
      "source": [
        "# Implement pipeline and grid search here. Can add more code blocks if necessary\n",
        "\n",
        "from sklearn.model_selection import train_test_split, GridSearchCV\n",
        "from sklearn.pipeline import Pipeline\n",
        "from sklearn.linear_model import LinearRegression\n",
        "from sklearn.tree import DecisionTreeRegressor\n",
        "from sklearn.ensemble import RandomForestRegressor\n",
        "\n",
        "\n",
        "X_train, X_test, y_train, y_test = train_test_split(X_preprocessed, y, test_size=0.2, random_state=42)\n",
        "\n",
        "\n",
        "# Linear Regression Pipeline\n",
        "pipe_linear = Pipeline([('regressor', LinearRegression())])\n",
        "\n",
        "# Decision Tree Regressor Pipeline\n",
        "pipe_tree = Pipeline([('regressor', DecisionTreeRegressor())])\n",
        "\n",
        "# Random Forest Regressor Pipeline\n",
        "pipe_forest = Pipeline([('regressor', RandomForestRegressor())])\n",
        "\n",
        "\n",
        "param_grid_linear = {\n",
        "    'regressor__fit_intercept': [True, False],\n",
        "    'regressor__positive': [True, False]\n",
        "}\n",
        "\n",
        "param_grid_tree = {'regressor__max_depth': [None, 10, 20, 30],\n",
        "                   'regressor__min_samples_split': [2, 5, 10]}\n",
        "\n",
        "param_grid_forest = {'regressor__n_estimators': [10, 50, 100],\n",
        "                     'regressor__max_features': [1.0, 'sqrt', 'log2']}\n",
        "\n",
        "\n",
        "grid_linear = GridSearchCV(pipe_linear, param_grid_linear, cv=5, scoring='neg_mean_squared_error')\n",
        "grid_tree = GridSearchCV(pipe_tree, param_grid_tree, cv=5, scoring='neg_mean_squared_error')\n",
        "grid_forest = GridSearchCV(pipe_forest, param_grid_forest, cv=5, scoring='neg_mean_squared_error')\n",
        "\n",
        "\n",
        "# For Linear Regression\n",
        "grid_linear.fit(X_train, y_train)\n",
        "print(\"Best parameters for Linear Regression:\", grid_linear.best_params_)\n",
        "print(\"Best score for Linear Regression:\", grid_linear.best_score_)\n",
        "\n",
        "# For Decision Tree\n",
        "grid_tree.fit(X_train, y_train)\n",
        "print(\"Best parameters for Decision Tree Regressor:\", grid_tree.best_params_)\n",
        "print(\"Best score for Decision Tree Regressor:\", grid_tree.best_score_)\n",
        "\n",
        "# For Random Forest\n",
        "grid_forest.fit(X_train, y_train)\n",
        "print(\"Best parameters for Random Forest Regressor:\", grid_forest.best_params_)\n",
        "print(\"Best score for Random Forest Regressor:\", grid_forest.best_score_)\n",
        "\n"
      ]
    },
    {
      "cell_type": "markdown",
      "id": "3dbd7075",
      "metadata": {
        "id": "3dbd7075"
      },
      "source": [
        "### Questions (5 marks)\n",
        "\n",
        "1. (1 mark) Do you need regression or classification models for your dataset?\n",
        "\n",
        "For this dataset, regression models are needed. The reason is that the target variable, 'Price', is continuous and numerical. Regression models are designed to predict a continuous outcome, making them suitable for predicting house prices based on various features like square footage, number of bedrooms, bathrooms, neighborhood, and year built.\n",
        "\n",
        "\n",
        "1. (2 marks) Which models did you select for testing and why?\n",
        "\n",
        "The selected models were Linear Regression, Decision Tree Regressor, and Random Forest Regressor.\n",
        "\n",
        "Linear Regression: This is a fundamental regression model and serves as a good baseline. It assumes a linear relationship between the independent variables and the dependent variable. It's useful to understand how well a simple model performs before moving to more complex ones.\n",
        "\n",
        "Decision Tree Regressor: As a non-linear model, it can capture more complex relationships in the data that a linear model might miss. Decision trees are also easy to interpret and can handle both numerical and categorical data effectively.\n",
        "\n",
        "Random Forest Regressor: This is an ensemble model that builds multiple decision trees and merges them together to get a more accurate and stable prediction. It's generally known for its high accuracy and ability to handle overfitting better than individual decision trees.\n",
        "\n",
        "\n",
        "\n",
        "\n",
        "1. (2 marks) Which model worked the best? Does this make sense based on the theory discussed in the course and the context of your dataset?\n",
        "\n",
        "Best Performing Model Based on Grid Search Results:\n",
        "\n",
        "Among the three models tested, the Linear Regression model achieved the best score, as indicated by the highest (least negative) value of the scoring metric (Mean Squared Error, MSE). The best parameters for the Linear Regression model were found to be {'regressor__fit_intercept': True, 'regressor__positive': True}.\n",
        "Does the Best Performing Model Make Sense Theoretically and Contextually?\n",
        "\n",
        "\n",
        "The fact that Linear Regression performed the best can be interpreted in several ways:\n",
        "\n",
        "\n",
        "Simplicity of Relationships: The underlying relationship between the features and the target variable (house prices) in this dataset might be more linear than complex. This indicates that a simple linear model is sufficient to capture the trends in the data without the need for more complex, non-linear models.\n",
        "\n",
        "Overfitting in Complex Models: It’s possible that the Decision Tree and Random Forest models overfitted the training data. While these models are capable of capturing more complex relationships, they can also fit the noise in the training data, leading to poorer performance on unseen data (test data).\n",
        "\n",
        "Dataset Characteristics: The performance of Linear Regression suggests that the features have a significant linear relationship with the house prices. The dataset might not have enough variability or non-linear patterns to benefit from the more complex models.\n",
        "\n",
        "Hyperparameter Choices: The grid search results are also influenced by the choice of hyperparameters and their ranges. It's possible that with a different set of hyperparameters or a broader search, the non-linear models could have performed better.\n",
        "\n",
        "In summary, the Linear Regression model's superior performance in this context might suggest that for this particular dataset, a simple linear approach is more effective than more complex models. This aligns with the principle that sometimes simpler models can outperform complex ones, especially when the relationships in the data are not overly complex or when the dataset size and feature set do not warrant more sophisticated models.\n",
        "\n",
        "\n",
        "\n",
        "\n",
        "\n",
        "\n",
        "\n",
        "*ANSWER HERE*"
      ]
    },
    {
      "cell_type": "markdown",
      "id": "3f994e31",
      "metadata": {
        "id": "3f994e31"
      },
      "source": [
        "## Step 4: Validate Model (6 marks)\n",
        "\n",
        "Use the testing set to calculate the testing accuracy for the best model determined in Step 3."
      ]
    },
    {
      "cell_type": "code",
      "execution_count": null,
      "id": "69e64c08",
      "metadata": {
        "colab": {
          "base_uri": "https://localhost:8080/"
        },
        "id": "69e64c08",
        "outputId": "703a7b7c-da6e-4cba-8471-0e77b5b9ff7c"
      },
      "outputs": [
        {
          "output_type": "stream",
          "name": "stdout",
          "text": [
            "Testing Mean Squared Error: 2436390444.066854\n",
            "Testing R-squared: 0.5755382856951105\n"
          ]
        }
      ],
      "source": [
        "# Calculate testing accuracy (1 mark)\n",
        "\n",
        "from sklearn.linear_model import LinearRegression\n",
        "\n",
        "# Create the Linear Regression model with the best parameters\n",
        "best_linear_model = LinearRegression(fit_intercept=True, positive=True)\n",
        "\n",
        "# Fit the model on the training data\n",
        "best_linear_model.fit(X_train, y_train)\n",
        "\n",
        "\n",
        "from sklearn.metrics import mean_squared_error, r2_score\n",
        "\n",
        "# Predict on the testing data\n",
        "y_pred = best_linear_model.predict(X_test)\n",
        "\n",
        "# Calculate the testing accuracy\n",
        "mse = mean_squared_error(y_test, y_pred)\n",
        "r2 = r2_score(y_test, y_pred)\n",
        "\n",
        "print(f\"Testing Mean Squared Error: {mse}\")\n",
        "print(f\"Testing R-squared: {r2}\")\n"
      ]
    },
    {
      "cell_type": "markdown",
      "id": "1e4529ba",
      "metadata": {
        "id": "1e4529ba"
      },
      "source": [
        "\n",
        "### Questions (5 marks)\n",
        "\n",
        "1. (1 mark) Which accuracy metric did you choose?\n",
        "\n",
        "The accuracy metrics used were Mean Squared Error (MSE) and R-squared. MSE is a measure of the average squared difference between the estimated values and the actual values, providing a quantifiable indication of the model's prediction error. R-squared, or the coefficient of determination, indicates the proportion of the variance in the dependent variable that is predictable from the independent variables, providing a measure of how well unseen samples are likely to be predicted by the model.\n",
        "\n",
        "\n",
        "1. (1 mark) How do these results compare to those in part 3? Did this model generalize well?\n",
        "\n",
        "In part 3, the best model (Linear Regression) was selected based on the grid search results, which used the training data. The testing MSE and R-squared in part 4 are crucial for evaluating how well the model generalizes to new, unseen data.\n",
        "The testing MSE is 2436390444.066854 and the R-squared is 0.5755382856951105. While the R-squared value suggests that the model explains about 57.5% of the variance in the target variable, the MSE is relatively high, indicating a substantial average error in the price predictions.\n",
        "This comparison suggests that the model has moderate predictive power but may not generalize exceptionally well to unseen data, given the substantial prediction error.\n",
        "\n",
        "\n",
        "1. (3 marks) Based on your results and the context of your dataset, did the best model perform \"well enough\" to be used out in the real-world? Why or why not? Do you have any suggestions for how you could improve this analysis?\n",
        "\n",
        "Real-World Applicability: The model's performance, with an R-squared of 0.5755, indicates it is moderately effective but might not be reliable enough for high-stakes decisions in the real-world real estate market. The substantial MSE implies that the model's predictions can be off by a significant margin, which is critical when dealing with high-value assets like real estate.\n",
        "\n",
        "Suggestions for Improvement:\n",
        "Feature Engineering: More sophisticated feature engineering could potentially improve the model's performance. This might include creating new features, transforming existing features, or integrating external data that could be relevant (e.g., economic indicators, local housing market trends).\n",
        "\n",
        "Model Complexity: Exploring more complex or different types of regression models might yield better results. Models that can capture more complex non-linear relationships or interactions between features (like Gradient Boosting or Support Vector Regression) might be more effective.\n",
        "\n",
        "Hyperparameter Tuning: Extending the range and scope of hyperparameter tuning could also lead to improvements. This might involve exploring a wider range of values or different hyperparameters.\n",
        "\n",
        "Cross-Validation: Using a more robust cross-validation strategy might provide a better understanding of how the model is likely to perform on various subsets of the data.\n",
        "\n",
        "Data Quality and Size: Increasing the dataset size or improving data quality (if possible) can also enhance model performance. More data points can provide a more comprehensive representation of the underlying patterns.\n",
        "\n",
        "\n",
        "\n",
        "*ANSWER HERE*"
      ]
    },
    {
      "cell_type": "markdown",
      "id": "37b238f4",
      "metadata": {
        "id": "37b238f4"
      },
      "source": [
        "## Process Description (4 marks)\n",
        "Please describe the process you used to create your code. Cite any websites or generative AI tools used. You can use the following questions as guidance:\n",
        "1. Where did you source your code?\n",
        "\n",
        "From the examples, lectures provided in class, as well as online tools and libraries.\n",
        "\n",
        "1. In what order did you complete the steps?\n",
        "\n",
        "In the order that they were listed.\n",
        "\n",
        "\n",
        "1. If you used generative AI, what prompts did you use? Did you need to modify the code at all? Why or why not?\n",
        "\n",
        "I used AI to help debug errors in my code. I also used it to help me understand the results better and answer some questions. It was easier to use AI to understand results rather than dig online for resources or through old lecture notes. I used prompts such as \"What does this error mean and how do I fix it\", or \"What do these results mean\"\n",
        "\n",
        "1. Did you have any challenges? If yes, what were they? If not, what helped you to be successful?\n",
        "\n",
        "I did have some challenges remembering how to perform specific models. I had to use quite a bit of AI and old notes to help me be successful.\n",
        "\n"
      ]
    },
    {
      "cell_type": "markdown",
      "id": "93097bfe",
      "metadata": {
        "id": "93097bfe"
      },
      "source": [
        "*DESCRIBE YOUR PROCESS HERE*"
      ]
    },
    {
      "cell_type": "markdown",
      "id": "cd97b6ac",
      "metadata": {
        "id": "cd97b6ac"
      },
      "source": [
        "## Reflection (2 marks)\n",
        "Include a sentence or two about:\n",
        "- what you liked or disliked,\n",
        "- found interesting, confusing, challenging, motivating\n",
        "while working on this assignment.\n",
        "\n",
        "\n",
        "*ADD YOUR THOUGHTS HERE*\n",
        "\n",
        "While working on this assignment, I found it particularly interesting to apply machine learning concepts to a practical scenario like housing price prediction. It was engaging to think through each step of the process, from data preprocessing to model selection and validation. The most challenging aspect was adapting the advice and code suggestions to the specific issues and errors encountered, which required a deep understanding of both the theoretical and practical aspects of machine learning. This challenge was also motivating, as it pushed me to think critically and creatively to provide solutions that were both accurate and applicable to your unique dataset and objectives."
      ]
    },
    {
      "cell_type": "code",
      "execution_count": null,
      "id": "241c3b12",
      "metadata": {
        "id": "241c3b12"
      },
      "outputs": [],
      "source": []
    }
  ],
  "metadata": {
    "kernelspec": {
      "display_name": "Python 3 (ipykernel)",
      "language": "python",
      "name": "python3"
    },
    "language_info": {
      "codemirror_mode": {
        "name": "ipython",
        "version": 3
      },
      "file_extension": ".py",
      "mimetype": "text/x-python",
      "name": "python",
      "nbconvert_exporter": "python",
      "pygments_lexer": "ipython3",
      "version": "3.11.5"
    },
    "colab": {
      "provenance": []
    }
  },
  "nbformat": 4,
  "nbformat_minor": 5
}