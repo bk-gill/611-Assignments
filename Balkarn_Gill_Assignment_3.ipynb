{
  "cells": [
    {
      "cell_type": "markdown",
      "id": "92778525",
      "metadata": {
        "id": "92778525"
      },
      "source": [
        "# Assignment 3: Non-Linear Models and Validation Metrics (37 total marks)\n",
        "### Due: October 24 at 11:59pm\n",
        "\n",
        "### Name: Balkarn Gill"
      ]
    },
    {
      "cell_type": "markdown",
      "id": "ce31b39a",
      "metadata": {
        "id": "ce31b39a"
      },
      "source": [
        "### In this assignment, you will need to write code that uses non-linear models to perform classification and regression tasks. You will also be asked to describe the process by which you came up with the code. More details can be found below. Please cite any websites or AI tools that you used to help you with this assignment."
      ]
    },
    {
      "cell_type": "markdown",
      "id": "cf275ca7",
      "metadata": {
        "id": "cf275ca7"
      },
      "source": [
        "### Import Libraries"
      ]
    },
    {
      "cell_type": "code",
      "execution_count": null,
      "id": "2b67a661",
      "metadata": {
        "id": "2b67a661"
      },
      "outputs": [],
      "source": [
        "import numpy as np\n",
        "import pandas as pd\n",
        "import matplotlib.pyplot as plt\n",
        "import seaborn as sns"
      ]
    },
    {
      "cell_type": "markdown",
      "id": "5ee2d2c3",
      "metadata": {
        "id": "5ee2d2c3"
      },
      "source": [
        "## Part 1: Regression (14.5 marks)\n",
        "\n",
        "For this section, we will be continuing with the concrete example from yellowbrick. You will need to compare these results to the results from the previous assignment. Please use the results from the solution if you were unable to complete Assignment 2"
      ]
    },
    {
      "cell_type": "markdown",
      "id": "8219f163",
      "metadata": {
        "id": "8219f163"
      },
      "source": [
        "### Step 1: Data Input (0.5 marks)\n",
        "\n",
        "The data used for this task can be downloaded using the yellowbrick library:\n",
        "https://www.scikit-yb.org/en/latest/api/datasets/concrete.html\n",
        "\n",
        "Use the yellowbrick function `load_concrete()` to load the concrete dataset into the feature matrix `X` and target vector `y`."
      ]
    },
    {
      "cell_type": "code",
      "execution_count": null,
      "id": "2af8bd32",
      "metadata": {
        "id": "2af8bd32",
        "outputId": "e5fa1390-5f8d-4c88-c648-90e157a5dce7",
        "colab": {
          "base_uri": "https://localhost:8080/"
        }
      },
      "outputs": [
        {
          "output_type": "stream",
          "name": "stdout",
          "text": [
            "X training shape:  (772, 8)\n",
            "X testing shape:  (258, 8)\n",
            "y training size:  (772,)\n",
            "y testing size:  (258,)\n"
          ]
        }
      ],
      "source": [
        "from yellowbrick.datasets import load_concrete\n",
        "from sklearn.model_selection import train_test_split\n",
        "\n",
        "# Load the concrete dataset into the feature matrix X and target vector y\n",
        "X, y = load_concrete()\n",
        "\n",
        "X_train, X_test, y_train, y_test = train_test_split(X, y, random_state=0)\n",
        "\n",
        "print(\"X training shape: \", X_train.shape)\n",
        "print(\"X testing shape: \", X_test.shape)\n",
        "print(\"y training size: \", y_train.shape)\n",
        "print(\"y testing size: \", y_test.shape)"
      ]
    },
    {
      "cell_type": "markdown",
      "id": "42fea4cc",
      "metadata": {
        "id": "42fea4cc"
      },
      "source": [
        "### Step 2: Data Processing (0 marks)\n",
        "\n",
        "Data processing was completed in the previous assignment. No need to repeat here."
      ]
    },
    {
      "cell_type": "markdown",
      "id": "2a245d00",
      "metadata": {
        "id": "2a245d00"
      },
      "source": [
        "### Step 3: Implement Machine Learning Model\n",
        "\n",
        "1. Import the Decision Tree, Random Forest and Gradient Boosting Machines regression models from sklearn\n",
        "2. Instantiate the three models with `max_depth = 5`. Are there any other parameters that you will need to set?\n",
        "3. Implement each machine learning model with `X` and `y`"
      ]
    },
    {
      "cell_type": "markdown",
      "id": "3f994e31",
      "metadata": {
        "id": "3f994e31"
      },
      "source": [
        "### Step 4: Validate Model\n",
        "\n",
        "Calculate the average training and validation accuracy using mean squared error with cross-validation. To do this, you will need to set `scoring='neg_mean_squared_error'` in your `cross_validate` function and negate the results (multiply by -1)"
      ]
    },
    {
      "cell_type": "markdown",
      "id": "5fc3f7a8",
      "metadata": {
        "id": "5fc3f7a8"
      },
      "source": [
        "### Step 5: Visualize Results (4 marks)\n",
        "\n",
        "1. Create a pandas DataFrame `results` with columns: Training accuracy and Validation accuracy, and index: DT, RF and GB\n",
        "2. Add the accuracy results to the `results` DataFrame\n",
        "3. Print `results`"
      ]
    },
    {
      "cell_type": "code",
      "execution_count": null,
      "id": "225c8042",
      "metadata": {
        "id": "225c8042",
        "outputId": "63108505-4617-48f3-c89c-bbad1e06fa2e",
        "colab": {
          "base_uri": "https://localhost:8080/"
        }
      },
      "outputs": [
        {
          "output_type": "stream",
          "name": "stdout",
          "text": [
            "    Training Accuracy  Validation Accuracy\n",
            "DT          70.343527           101.126346\n",
            "RF          45.338639            65.870466\n",
            "GB          22.703811            48.841820\n"
          ]
        }
      ],
      "source": [
        "# TO DO: ADD YOUR CODE HERE FOR STEPS 3-5\n",
        "# Note: for any random state parameters, you can use random_state = 0\n",
        "# HINT: USING A LOOP TO STORE THE DATA IN YOUR RESULTS DATAFRAME WILL BE MORE EFFICIENT\n",
        "\n",
        "# Importing decision tree, random forest, and gradient boosting\n",
        "from sklearn.tree import DecisionTreeRegressor\n",
        "from sklearn.ensemble import RandomForestRegressor, GradientBoostingRegressor\n",
        "from sklearn.model_selection import cross_val_score\n",
        "import pandas as pd\n",
        "\n",
        "# Instantiate the models with max_depth=5 and additional parameters\n",
        "models = {\n",
        "    'DT': DecisionTreeRegressor(max_depth=5),\n",
        "    'RF': RandomForestRegressor(max_depth=5, n_estimators=100),\n",
        "    'GB': GradientBoostingRegressor(max_depth=5, n_estimators=100, learning_rate=0.1)\n",
        "}\n",
        "\n",
        "# Train the models\n",
        "for model_name, model in models.items():\n",
        "    model.fit(X_train, y_train)\n",
        "\n",
        "# Calculate training and validation accuracy with cross-validation and mean squared error\n",
        "results = {'Training Accuracy': {}, 'Validation Accuracy': {}}\n",
        "for model_name, model in models.items():\n",
        "    for dataset, X_data, y_data in [('Training', X_train, y_train), ('Validation', X_test, y_test)]:\n",
        "        scores = -cross_val_score(model, X_data, y_data, scoring='neg_mean_squared_error', cv=5)\n",
        "        avg_accuracy = scores.mean()\n",
        "        results[dataset + ' Accuracy'][model_name] = avg_accuracy\n",
        "\n",
        "# Create a DataFrame to display the results\n",
        "results_df = pd.DataFrame(results)\n",
        "print(results_df)\n"
      ]
    },
    {
      "cell_type": "markdown",
      "id": "31715a9d",
      "metadata": {
        "id": "31715a9d"
      },
      "source": [
        "Repeat the step above to print the R2 score instead of the mean-squared error. For this case, you can use `scoring='r2'`"
      ]
    },
    {
      "cell_type": "code",
      "execution_count": null,
      "id": "83539f47",
      "metadata": {
        "id": "83539f47",
        "outputId": "a65beb21-3edb-42d1-fb86-1347a4e5e3f9",
        "colab": {
          "base_uri": "https://localhost:8080/"
        }
      },
      "outputs": [
        {
          "output_type": "stream",
          "name": "stdout",
          "text": [
            "    Training R2 Score  Validation R2 Score\n",
            "DT           0.741966             0.593765\n",
            "RF           0.839556             0.739688\n",
            "GB           0.919301             0.807729\n"
          ]
        }
      ],
      "source": [
        "# TO DO: ADD YOUR CODE HERE\n",
        "\n",
        "# Importing decision tree, random forest, and gradient boosting\n",
        "from sklearn.tree import DecisionTreeRegressor\n",
        "from sklearn.ensemble import RandomForestRegressor, GradientBoostingRegressor\n",
        "from sklearn.model_selection import cross_val_score\n",
        "import pandas as pd\n",
        "\n",
        "# Instantiate the models with max_depth=5 and additional parameters\n",
        "models = {\n",
        "    'DT': DecisionTreeRegressor(max_depth=5),\n",
        "    'RF': RandomForestRegressor(max_depth=5, n_estimators=100),\n",
        "    'GB': GradientBoostingRegressor(max_depth=5, n_estimators=100, learning_rate=0.1)\n",
        "}\n",
        "\n",
        "# Train the models\n",
        "for model_name, model in models.items():\n",
        "    model.fit(X_train, y_train)\n",
        "\n",
        "# Calculate training and validation R2 score with cross-validation\n",
        "results = {'Training R2 Score': {}, 'Validation R2 Score': {}}\n",
        "for model_name, model in models.items():\n",
        "    for dataset, X_data, y_data in [('Training', X_train, y_train), ('Validation', X_test, y_test)]:\n",
        "        scores = cross_val_score(model, X_data, y_data, scoring='r2', cv=5)\n",
        "        avg_r2_score = scores.mean()\n",
        "        results[dataset + ' R2 Score'][model_name] = avg_r2_score\n",
        "\n",
        "# Create a DataFrame to display the results\n",
        "results_df = pd.DataFrame(results)\n",
        "print(results_df)\n"
      ]
    },
    {
      "cell_type": "markdown",
      "id": "a5257a98",
      "metadata": {
        "id": "a5257a98"
      },
      "source": [
        "### Questions (6 marks)\n",
        "1. How do these results compare to the results using a linear model in the previous assignment? Use values.\n",
        "\n",
        "Linear models are often simpler and have linear relationships between features and the target variable. They may perform well when the relationship is approximately linear.\n",
        "Tree-based models like Decision Trees, Random Forest, and Gradient Boosting can capture non-linear relationships and interactions between features. They tend to perform well when the data has non-linear patterns.\n",
        "To compare the models, you should look at metrics like R2 score or mean squared error (MSE) and choose the model that performs better based on the specific dataset and its characteristics.\n",
        "\n",
        "2. Out of the models you tested, which model would you select for this dataset and why?\n",
        "\n",
        "\n",
        "In this specific scenario, I would opt for the Gradient Boosting model as it outperforms other models in terms of both training and validation accuracy. Its strong performance in validation accuracy indicates that it can make accurate predictions without overfitting, making it a reliable choice for this dataset.\n",
        "\n",
        "\n",
        "3. If you wanted to increase the accuracy of the tree-based models, what would you do? Provide two suggestions.\n",
        "\n",
        "Adjust hyperparameters: Tune settings like tree depth and minimum samples.\n",
        "Feature enhancement: Analyze feature relevance and create new informative features. Normalize scales if needed.\n",
        "\n",
        "*ANSWER HERE*"
      ]
    },
    {
      "cell_type": "markdown",
      "id": "37b238f4",
      "metadata": {
        "id": "37b238f4"
      },
      "source": [
        "### Process Description (4 marks)\n",
        "Please describe the process you used to create your code. Cite any websites or generative AI tools used. You can use the following questions as guidance:\n",
        "\n",
        "1. Where did you source your code?\n",
        "\n",
        "From the examples, lectures provided in class, as well as online tools and libraries.\n",
        "\n",
        "2. In what order did you complete the steps?\n",
        "\n",
        "I completed the steps in the order they were listed.\n",
        "\n",
        "3. If you used generative AI, what prompts did you use? Did you need to modify the code at all? Why or why not?\n",
        "\n",
        "I used generative AI to better understand the questions and expectations for the solutions. The prompts were more or less the questions. I also used generative AI when I was experiencing errors, especially for steps 3-5. It helped me figure out what was going wrong.\n",
        "\n",
        "\n",
        "4. Did you have any challenges? If yes, what were they? If not, what helped you to be successful?\n",
        "\n",
        "I did have challenges remembering how to perform certain functions. I had to dig through some of the old examples or search online."
      ]
    },
    {
      "cell_type": "markdown",
      "id": "93097bfe",
      "metadata": {
        "id": "93097bfe"
      },
      "source": [
        "*DESCRIBE YOUR PROCESS HERE*"
      ]
    },
    {
      "cell_type": "markdown",
      "id": "f7c6de86",
      "metadata": {
        "id": "f7c6de86"
      },
      "source": [
        "## Part 2: Classification (17.5 marks)\n",
        "\n",
        "You have been asked to develop code that can help the user classify different wine samples. Following the machine learning workflow described in class, write the relevant code in each of the steps below:"
      ]
    },
    {
      "cell_type": "markdown",
      "id": "5f9d33a8",
      "metadata": {
        "id": "5f9d33a8"
      },
      "source": [
        "### Step 1: Data Input (2 marks)\n",
        "\n",
        "The data used for this task can be downloaded from UCI: https://archive.ics.uci.edu/dataset/109/wine\n",
        "\n",
        "Use the pandas library to load the dataset. You must define the column headers if they are not included in the dataset\n",
        "\n",
        "You will need to split the dataset into feature matrix `X` and target vector `y`. Which column represents the target vector?\n",
        "\n",
        "Print the size and type of `X` and `y`"
      ]
    },
    {
      "cell_type": "code",
      "execution_count": null,
      "id": "33583c67",
      "metadata": {
        "id": "33583c67",
        "outputId": "0f1b7726-fd8a-40bf-f0ab-0b35acc6d2dd",
        "colab": {
          "base_uri": "https://localhost:8080/"
        }
      },
      "outputs": [
        {
          "output_type": "stream",
          "name": "stdout",
          "text": [
            "X shape: (178, 13)\n",
            "y shape: (178,)\n",
            "X type: <class 'pandas.core.frame.DataFrame'>\n",
            "y type: <class 'pandas.core.series.Series'>\n"
          ]
        }
      ],
      "source": [
        "import pandas as pd\n",
        "\n",
        "# Define column headers as given in the dataset description\n",
        "column_headers = [\"Class\", \"Alcohol\", \"Malic acid\", \"Ash\", \"Alcalinity of ash\", \"Magnesium\", \"Total phenols\", \"Flavanoids\", \"Nonflavanoid phenols\", \"Proanthocyanins\", \"Color intensity\", \"Hue\", \"OD280/OD315 of diluted wines\", \"Proline\"]\n",
        "\n",
        "# Load the wine dataset with defined column headers\n",
        "wine_data = pd.read_csv(\"https://archive.ics.uci.edu/ml/machine-learning-databases/wine/wine.data\", names=column_headers)\n",
        "\n",
        "# Split the dataset into feature matrix X and target vector y\n",
        "X = wine_data.drop(\"Class\", axis=1)\n",
        "y = wine_data[\"Class\"]\n",
        "\n",
        "# Print the size and type of X and y\n",
        "print(\"X shape:\", X.shape)\n",
        "print(\"y shape:\", y.shape)\n",
        "print(\"X type:\", type(X))\n",
        "print(\"y type:\", type(y))"
      ]
    },
    {
      "cell_type": "markdown",
      "id": "156db208",
      "metadata": {
        "id": "156db208"
      },
      "source": [
        "### Step 2: Data Processing (1.5 marks)"
      ]
    },
    {
      "cell_type": "markdown",
      "id": "a28af110",
      "metadata": {
        "id": "a28af110"
      },
      "source": [
        "Print the first five rows of the dataset to inspect:"
      ]
    },
    {
      "cell_type": "code",
      "execution_count": null,
      "id": "ea266921",
      "metadata": {
        "id": "ea266921",
        "outputId": "5023d6fe-e3cb-457a-8cda-9f4fb74e431c",
        "colab": {
          "base_uri": "https://localhost:8080/"
        }
      },
      "outputs": [
        {
          "output_type": "stream",
          "name": "stdout",
          "text": [
            "   Class  Alcohol  Malic acid   Ash  Alcalinity of ash  Magnesium  \\\n",
            "0      1    14.23        1.71  2.43               15.6        127   \n",
            "1      1    13.20        1.78  2.14               11.2        100   \n",
            "2      1    13.16        2.36  2.67               18.6        101   \n",
            "3      1    14.37        1.95  2.50               16.8        113   \n",
            "4      1    13.24        2.59  2.87               21.0        118   \n",
            "\n",
            "   Total phenols  Flavanoids  Nonflavanoid phenols  Proanthocyanins  \\\n",
            "0           2.80        3.06                  0.28             2.29   \n",
            "1           2.65        2.76                  0.26             1.28   \n",
            "2           2.80        3.24                  0.30             2.81   \n",
            "3           3.85        3.49                  0.24             2.18   \n",
            "4           2.80        2.69                  0.39             1.82   \n",
            "\n",
            "   Color intensity   Hue  OD280/OD315 of diluted wines  Proline  \n",
            "0             5.64  1.04                          3.92     1065  \n",
            "1             4.38  1.05                          3.40     1050  \n",
            "2             5.68  1.03                          3.17     1185  \n",
            "3             7.80  0.86                          3.45     1480  \n",
            "4             4.32  1.04                          2.93      735  \n"
          ]
        }
      ],
      "source": [
        "# TO DO: ADD YOUR CODE HERE\n",
        "\n",
        "# Print the first five rows of the dataset\n",
        "print(wine_data.head())\n",
        "\n"
      ]
    },
    {
      "cell_type": "markdown",
      "id": "834fc8fe",
      "metadata": {
        "id": "834fc8fe"
      },
      "source": [
        "Check to see if there are any missing values in the dataset. If necessary, select an appropriate method to fill-in the missing values"
      ]
    },
    {
      "cell_type": "code",
      "execution_count": null,
      "id": "97c6e9dc",
      "metadata": {
        "id": "97c6e9dc",
        "outputId": "539d4d1f-50a2-4ed5-94d1-b48328cd0503",
        "colab": {
          "base_uri": "https://localhost:8080/"
        }
      },
      "outputs": [
        {
          "output_type": "stream",
          "name": "stdout",
          "text": [
            "Missing values before fill:\n",
            "Class                           0\n",
            "Alcohol                         0\n",
            "Malic acid                      0\n",
            "Ash                             0\n",
            "Alcalinity of ash               0\n",
            "Magnesium                       0\n",
            "Total phenols                   0\n",
            "Flavanoids                      0\n",
            "Nonflavanoid phenols            0\n",
            "Proanthocyanins                 0\n",
            "Color intensity                 0\n",
            "Hue                             0\n",
            "OD280/OD315 of diluted wines    0\n",
            "Proline                         0\n",
            "dtype: int64\n",
            "\n",
            "Missing values after fill:\n",
            "Class                           0\n",
            "Alcohol                         0\n",
            "Malic acid                      0\n",
            "Ash                             0\n",
            "Alcalinity of ash               0\n",
            "Magnesium                       0\n",
            "Total phenols                   0\n",
            "Flavanoids                      0\n",
            "Nonflavanoid phenols            0\n",
            "Proanthocyanins                 0\n",
            "Color intensity                 0\n",
            "Hue                             0\n",
            "OD280/OD315 of diluted wines    0\n",
            "Proline                         0\n",
            "dtype: int64\n"
          ]
        }
      ],
      "source": [
        "# TO DO: ADD YOUR CODE HERE\n",
        "\n",
        "# Check for missing values in the dataset\n",
        "missing_values = wine_data.isnull().sum()\n",
        "\n",
        "# If there are missing values, you can choose an appropriate method to handle them\n",
        "if missing_values.any():\n",
        "    # Replace missing values with the mean of the respective column (you can choose another method as needed)\n",
        "    wine_data.fillna(wine_data.mean(), inplace=True)\n",
        "\n",
        "# Check if missing values have been filled\n",
        "missing_values_after_fill = wine_data.isnull().sum()\n",
        "\n",
        "# Print the results\n",
        "print(\"Missing values before fill:\")\n",
        "print(missing_values)\n",
        "print(\"\\nMissing values after fill:\")\n",
        "print(missing_values_after_fill)\n"
      ]
    },
    {
      "cell_type": "markdown",
      "id": "070956af",
      "metadata": {
        "id": "070956af"
      },
      "source": [
        "How many samples do we have of each type of wine?"
      ]
    },
    {
      "cell_type": "code",
      "execution_count": null,
      "id": "b37a6fd9",
      "metadata": {
        "id": "b37a6fd9",
        "outputId": "1c13ec6b-a907-452f-e39d-36aa1172f1e9",
        "colab": {
          "base_uri": "https://localhost:8080/"
        }
      },
      "outputs": [
        {
          "output_type": "stream",
          "name": "stdout",
          "text": [
            "2    71\n",
            "1    59\n",
            "3    48\n",
            "Name: Class, dtype: int64\n"
          ]
        }
      ],
      "source": [
        "# TO DO: ADD YOUR CODE HERE\n",
        "\n",
        "# Count the number of samples for each class (type of wine)\n",
        "wine_class_counts = wine_data['Class'].value_counts()\n",
        "\n",
        "# Print the counts\n",
        "print(wine_class_counts)\n"
      ]
    },
    {
      "cell_type": "markdown",
      "id": "70e6c46f",
      "metadata": {
        "id": "70e6c46f"
      },
      "source": [
        "### Step 3: Implement Machine Learning Model\n",
        "\n",
        "1. Import `SVC` and `DecisionTreeClassifier` from sklearn\n",
        "2. Instantiate models as `SVC()` and `DecisionTreeClassifier(max_depth = 3)`\n",
        "3. Implement the machine learning model with `X` and `y`"
      ]
    },
    {
      "cell_type": "markdown",
      "id": "0870b0d2",
      "metadata": {
        "id": "0870b0d2"
      },
      "source": [
        "### Step 4: Validate Model\n",
        "\n",
        "Calculate the average training and validation accuracy using `cross_validate` for the two different models listed in Step 3. For this case, use `scoring='accuracy'`"
      ]
    },
    {
      "cell_type": "markdown",
      "id": "bb0bbd83",
      "metadata": {
        "id": "bb0bbd83"
      },
      "source": [
        "### Step 5: Visualize Results (4 marks)\n",
        "\n",
        "#### Step 5.1: Compare Models\n",
        "1. Create a pandas DataFrame `results` with columns: Training accuracy and Validation accuracy\n",
        "2. Add the data size, training and validation accuracy for each dataset to the `results` DataFrame\n",
        "3. Print `results`"
      ]
    },
    {
      "cell_type": "code",
      "execution_count": null,
      "id": "be4b5c0a",
      "metadata": {
        "id": "be4b5c0a",
        "outputId": "01d6aa50-c167-4983-df7d-c116124f542b",
        "colab": {
          "base_uri": "https://localhost:8080/"
        }
      },
      "outputs": [
        {
          "output_type": "stream",
          "name": "stdout",
          "text": [
            "Results:\n",
            "           Model  Data siZe  Training Accuracy  Validation Accuracy\n",
            "0            SVC  (178, 13)           0.703743             0.663492\n",
            "1  Decision Tree  (178, 13)           0.974756             0.882063\n"
          ]
        }
      ],
      "source": [
        "# TO DO: ADD YOUR CODE HERE FOR STEPS 3-5\n",
        "# Note: for any random state parameters, you can use random_state = 0\n",
        "# HINT: USING A LOOP TO STORE THE DATA IN YOUR RESULTS DATAFRAME WILL BE MORE EFFICIENT\n",
        "\n",
        "from sklearn.svm import SVC\n",
        "from sklearn.tree import DecisionTreeClassifier\n",
        "from sklearn.model_selection import cross_validate\n",
        "import pandas as pd\n",
        "\n",
        "# Step 3: Implement Machine Learning Model\n",
        "# Instantiate models\n",
        "svc_model = SVC()\n",
        "dt_model = DecisionTreeClassifier(max_depth=3)\n",
        "\n",
        "# Implement the machine learning models with X and y\n",
        "svc_scores = cross_validate(svc_model, X, y, cv=5, scoring='accuracy', return_train_score=True)\n",
        "dt_scores = cross_validate(dt_model, X, y, cv=5, scoring='accuracy', return_train_score=True)\n",
        "\n",
        "# Step 4: Validate Model\n",
        "# Calculate the average training and validation accuracy\n",
        "svc_avg_train_accuracy = svc_scores['train_score'].mean()\n",
        "svc_avg_val_accuracy = svc_scores['test_score'].mean()\n",
        "dt_avg_train_accuracy = dt_scores['train_score'].mean()\n",
        "dt_avg_val_accuracy = dt_scores['test_score'].mean()\n",
        "\n",
        "# Step 5: Visualize Results\n",
        "# Step 5.1: Compare Models\n",
        "# Create a pandas DataFrame results\n",
        "results = pd.DataFrame({\n",
        "    \"Model\": [\"SVC\", \"Decision Tree\"],\n",
        "    \"Data size\": [X.shape, X.shape],\n",
        "    \"Training Accuracy\": [svc_avg_train_accuracy, dt_avg_train_accuracy],\n",
        "    \"Validation Accuracy\": [svc_avg_val_accuracy, dt_avg_val_accuracy]\n",
        "})\n",
        "\n",
        "# Print results\n",
        "print(\"Results:\")\n",
        "print(results)\n",
        "\n",
        "\n"
      ]
    },
    {
      "cell_type": "markdown",
      "id": "f2e17878",
      "metadata": {
        "id": "f2e17878"
      },
      "source": [
        "#### Step 5.2: Visualize Classification Errors\n",
        "Which method gave the highest accuracy? Use this method to print the confusion matrix and classification report:"
      ]
    },
    {
      "cell_type": "code",
      "execution_count": null,
      "id": "44b091a4",
      "metadata": {
        "id": "44b091a4"
      },
      "outputs": [],
      "source": [
        "# TO DO: Implement best model (decision tree)\n",
        "\n",
        "from sklearn.metrics import confusion_matrix, classification_report\n",
        "import seaborn as sns\n",
        "import matplotlib.pyplot as plt\n",
        "\n",
        "# Use the Decision Tree model\n",
        "best_model = DecisionTreeClassifier(max_depth=3)\n",
        "\n",
        "# Fit the best model to the entire dataset\n",
        "best_model.fit(X, y)\n",
        "\n",
        "# Generate predictions on the entire dataset\n",
        "y_pred = best_model.predict(X)\n",
        "\n",
        "# Calculate the confusion matrix\n",
        "conf_matrix = confusion_matrix(y, y_pred)\n",
        "\n"
      ]
    },
    {
      "cell_type": "code",
      "execution_count": null,
      "id": "09d21b59",
      "metadata": {
        "id": "09d21b59",
        "outputId": "8a50a841-2411-4b14-e778-f08097bcb39a"
      },
      "outputs": [
        {
          "data": {
            "image/png": "[encoded data removed]",
            "text/plain": [
              "<Figure size 800x600 with 1 Axes>"
            ]
          },
          "metadata": {},
          "output_type": "display_data"
        }
      ],
      "source": [
        "# TO DO: Print confusion matrix using a heatmap\n",
        "\n",
        "plt.figure(figsize=(8, 6))\n",
        "sns.heatmap(conf_matrix, annot=True, cbar = False)\n",
        "plt.xlabel(\"Predicted\")\n",
        "plt.ylabel(\"Actual\")\n",
        "plt.title(\"Confusion Matrix\")\n",
        "plt.show()"
      ]
    },
    {
      "cell_type": "code",
      "execution_count": null,
      "id": "5ef95947",
      "metadata": {
        "id": "5ef95947",
        "outputId": "f9ee1d94-0c38-4ff0-ddc5-2d84230927ed"
      },
      "outputs": [
        {
          "name": "stdout",
          "output_type": "stream",
          "text": [
            "Classification Report:\n",
            "               precision    recall  f1-score   support\n",
            "\n",
            "           1       1.00      0.97      0.98        59\n",
            "           2       0.96      0.99      0.97        71\n",
            "           3       0.98      0.98      0.98        48\n",
            "\n",
            "    accuracy                           0.98       178\n",
            "   macro avg       0.98      0.98      0.98       178\n",
            "weighted avg       0.98      0.98      0.98       178\n",
            "\n"
          ]
        }
      ],
      "source": [
        "# TO DO: Print classification report\n",
        "\n",
        "class_report = classification_report(y, y_pred)\n",
        "print(\"Classification Report:\\n\", class_report)\n"
      ]
    },
    {
      "cell_type": "markdown",
      "id": "bf319621",
      "metadata": {
        "id": "bf319621"
      },
      "source": [
        "### Questions (6 marks)\n",
        "1. How do the training and validation accuracy change depending on the method used? Explain with values.\n",
        "\n",
        "The training accuracy for the Decision Tree is significantly higher than that of the SVC, with a difference of approximately 27.25%. This suggests that the Decision Tree fits the training data very well and can potentially capture complex relationships within the data.\n",
        "\n",
        "On the other hand, the validation accuracy of the Decision Tree is also higher than the SVC by around 20.75%. This indicates that the Decision Tree generalizes better to new, unseen data compared to the SVC.\n",
        "\n",
        "In summary, the Decision Tree model outperforms the SVC in terms of both training and validation accuracy, indicating that it provides a better fit to the dataset and better generalization to new data.\n",
        "\n",
        "2. What are two reasons why the support vector machines model did not work as well as the tree-based model?\n",
        "\n",
        "2a) Linear Separability Assumption: SVM is based on the assumption that the data is linearly separable, which means it works best when the decision boundary between classes can be represented as a linear hyperplane. If the data has a complex, nonlinear decision boundary, SVM may struggle to find an optimal solution. In contrast, Decision Trees can handle non-linear relationships by recursively splitting the data based on features, allowing them to capture more complex patterns.\n",
        "\n",
        "2b) Parameter Selection: The performance of an SVM model is highly dependent on parameter tuning, including the choice of the kernel function and the regularization parameter (C). Selecting appropriate values for these parameters can be challenging, and if not chosen correctly, it can lead to suboptimal performance. Decision Trees, on the other hand, are less sensitive to hyperparameter tuning and can work well with default settings.\n",
        "\n",
        "3. How many samples were incorrectly classified in step 5.2?\n",
        "\n",
        "For Class 1: Total support is 59, and precision is 1.00, so all samples were correctly classified.\n",
        "For Class 2: Total support is 71, and precision is 0.96, so 71 - 71 * 0.96 = 3 samples were incorrectly classified.\n",
        "For Class 3: Total support is 48, and precision is 0.98, so 48 - 48 * 0.98 = 1 sample was incorrectly classified.\n",
        "\n",
        "4. In this case, is maximizing precision or recall more important? Why?\n",
        "\n",
        "In the context of the wine dataset classification, precision, which measures the accuracy of positive predictions, is more important. This choice is based on the consideration that false positives could have notable consequences, such as misclassifying a wine type. Prioritizing precision helps ensure that when the model predicts a specific wine class, it is more likely to be correct, even if it means fewer positive predictions overall."
      ]
    },
    {
      "cell_type": "markdown",
      "id": "664ff8ae",
      "metadata": {
        "id": "664ff8ae"
      },
      "source": [
        "### Process Description (4 marks)\n",
        "Please describe the process you used to create your code. Cite any websites or generative AI tools used. You can use the following questions as guidance:\n",
        "\n",
        "1. Where did you source your code?\n",
        "\n",
        "From the examples, lectures provided in class, as well as online tools and libraries.\n",
        "\n",
        "2. In what order did you complete the steps?\n",
        "\n",
        "I completed the steps in the order they were listed.\n",
        "\n",
        "3. If you used generative AI, what prompts did you use? Did you need to modify the code at all? Why or why not?\n",
        "\n",
        "I used generative AI to better understand the questions and expectations for the solutions. The prompts were more or less the questions. I also used generative AI when I was experiencing errors, especially for steps 3-5. It helped me figure out what was going wrong.\n",
        "\n",
        "\n",
        "4. Did you have any challenges? If yes, what were they? If not, what helped you to be successful?\n",
        "\n",
        "I did have challenges remembering how to perform certain functions. I had to dig through some of the old examples or search online."
      ]
    },
    {
      "cell_type": "markdown",
      "id": "4cd7358d",
      "metadata": {
        "id": "4cd7358d"
      },
      "source": [
        "## Part 3: Observations/Interpretation (3 marks)\n",
        "\n",
        "Describe any pattern you see in the results. Relate your findings to what we discussed during lectures. Include data to justify your findings.\n",
        "\n",
        "\n",
        "Model Assessment: Precision, recall, and F1-score serve as critical performance indicators in classification tasks. The Decision Tree model exhibited remarkable precision, recall, and F1-scores across all classes, signifying its proficiency in accurately classifying wine samples.\n",
        "\n",
        "Model Effectiveness: In the initial regression task, the tree-based models, including Decision Tree, Random Forest, and Gradient Boosting, outshone the linear regression model, emphasizing their competence in capturing intricate data relationships. In the classification task, the Decision Tree model outperformed the Support Vector Machine (SVM) model in terms of accuracy, underscoring the significance of aligning model selection with dataset characteristics.\n",
        "\n",
        "Adaptability to Dataset Traits: The choice of the most appropriate model hinges on the inherent characteristics of the dataset. Tree-based models excel when handling non-linear and complex data, while SVMs may exhibit superior performance in scenarios featuring linearly separable data. Dataset nature should be a pivotal consideration in machine learning algorithm selection.\n",
        "\n",
        "\n",
        "*ADD YOUR FINDINGS HERE*"
      ]
    },
    {
      "cell_type": "markdown",
      "id": "cd97b6ac",
      "metadata": {
        "id": "cd97b6ac"
      },
      "source": [
        "## Part 4: Reflection (2 marks)\n",
        "Include a sentence or two about:\n",
        "- what you liked or disliked,\n",
        "- found interesting, confusing, challangeing, motivating while working on this assignment.\n",
        "\n",
        "*ADD YOUR THOUGHTS HERE*\n",
        "\n",
        "I liked that we could relate the results to the real-life scenario of the dataset. It makes it more engaging to complete assignments when you can see the direct affect of the results.\n",
        "\n",
        "I found it a little challenging to figure out where the errors are occuring when the results aren't producing results that reinforce the patterns we learnt in class. It took quite a bit of researching to figure out."
      ]
    },
    {
      "cell_type": "markdown",
      "id": "fa21e53b",
      "metadata": {
        "id": "fa21e53b"
      },
      "source": [
        "## Part 5: Bonus Question (3 marks)\n",
        "\n",
        "Repeat Part 2 and compare the support vector machines model used to `LinearSVC(max_iter=5000)`. Does using `LinearSVC` improve the results? Why or why not?\n",
        "\n",
        "Is `LinearSVC` a good fit for this dataset? Why or why not?"
      ]
    },
    {
      "cell_type": "code",
      "execution_count": null,
      "id": "30fea72e",
      "metadata": {
        "id": "30fea72e",
        "outputId": "9cee91af-961f-43df-c404-b8c90a165aab"
      },
      "outputs": [
        {
          "name": "stdout",
          "output_type": "stream",
          "text": [
            "Results:\n",
            "           Model  Training Accuracy  Validation Accuracy\n",
            "0            SVC           0.703743             0.663492\n",
            "1      LinearSVC           0.990161             0.955079\n",
            "2  Decision Tree           0.974756             0.881905\n"
          ]
        },
        {
          "data": {
            "image/png": "[encoded data removed]",
            "text/plain": [
              "<Figure size 800x600 with 1 Axes>"
            ]
          },
          "metadata": {},
          "output_type": "display_data"
        },
        {
          "name": "stdout",
          "output_type": "stream",
          "text": [
            "Classification Report (Decision Tree):\n",
            "               precision    recall  f1-score   support\n",
            "\n",
            "           1       1.00      0.97      0.98        59\n",
            "           2       0.96      0.99      0.97        71\n",
            "           3       0.98      0.98      0.98        48\n",
            "\n",
            "    accuracy                           0.98       178\n",
            "   macro avg       0.98      0.98      0.98       178\n",
            "weighted avg       0.98      0.98      0.98       178\n",
            "\n"
          ]
        }
      ],
      "source": [
        "import pandas as pd\n",
        "from sklearn.svm import SVC, LinearSVC\n",
        "from sklearn.tree import DecisionTreeClassifier\n",
        "from sklearn.model_selection import cross_validate\n",
        "import matplotlib.pyplot as plt\n",
        "\n",
        "# Step 1: Data Input\n",
        "# Define column headers and load the wine dataset\n",
        "column_headers = [\"Class\", \"Alcohol\", \"Malic acid\", \"Ash\", \"Alcalinity of ash\", \"Magnesium\", \"Total phenols\", \"Flavanoids\", \"Nonflavanoid phenols\", \"Proanthocyanins\", \"Color intensity\", \"Hue\", \"OD280/OD315 of diluted wines\", \"Proline\"]\n",
        "wine_data = pd.read_csv(\"https://archive.ics.uci.edu/ml/machine-learning-databases/wine/wine.data\", names=column_headers)\n",
        "\n",
        "# Split the dataset into X and y\n",
        "X = wine_data.drop(\"Class\", axis=1)\n",
        "y = wine_data[\"Class\"]\n",
        "\n",
        "# Step 2: Data Processing\n",
        "# Check for missing values and fill them if necessary\n",
        "missing_values = wine_data.isnull().sum()\n",
        "if missing_values.any():\n",
        "    wine_data.fillna(wine_data.mean(), inplace=True)\n",
        "\n",
        "# Step 3: Implement Machine Learning Model\n",
        "# Instantiate models\n",
        "svc_model = SVC()\n",
        "linear_svc_model = LinearSVC(dual=False, max_iter=10000)\n",
        "dt_model = DecisionTreeClassifier(max_depth=3)\n",
        "\n",
        "# Implement the machine learning models with X and y\n",
        "svc_scores = cross_validate(svc_model, X, y, cv=5, scoring='accuracy', return_train_score=True)\n",
        "linear_svc_scores = cross_validate(linear_svc_model, X, y, cv=5, scoring='accuracy', return_train_score=True)\n",
        "dt_scores = cross_validate(dt_model, X, y, cv=5, scoring='accuracy', return_train_score=True)\n",
        "\n",
        "# Step 4: Validate Model\n",
        "# Calculate the average training and validation accuracy\n",
        "svc_avg_train_accuracy = svc_scores['train_score'].mean()\n",
        "linear_svc_avg_train_accuracy = linear_svc_scores['train_score'].mean()\n",
        "dt_avg_train_accuracy = dt_scores['train_score'].mean()\n",
        "\n",
        "svc_avg_val_accuracy = svc_scores['test_score'].mean()\n",
        "linear_svc_avg_val_accuracy = linear_svc_scores['test_score'].mean()\n",
        "dt_avg_val_accuracy = dt_scores['test_score'].mean()\n",
        "\n",
        "# Step 5: Visualize Results\n",
        "# Compare Models\n",
        "results = pd.DataFrame({\n",
        "    \"Model\": [\"SVC\", \"LinearSVC\", \"Decision Tree\"],\n",
        "    \"Training Accuracy\": [svc_avg_train_accuracy, linear_svc_avg_train_accuracy, dt_avg_train_accuracy],\n",
        "    \"Validation Accuracy\": [svc_avg_val_accuracy, linear_svc_avg_val_accuracy, dt_avg_val_accuracy]\n",
        "})\n",
        "\n",
        "# Print results\n",
        "print(\"Results:\")\n",
        "print(results)\n",
        "\n",
        "# Step 5.2: Visualize Classification Errors (using Decision Tree as the best model)\n",
        "best_model = DecisionTreeClassifier(max_depth=3)\n",
        "best_model.fit(X, y)\n",
        "y_pred = best_model.predict(X)\n",
        "conf_matrix = confusion_matrix(y, y_pred)\n",
        "\n",
        "plt.figure(figsize=(8, 6))\n",
        "sns.heatmap(conf_matrix, annot=True, cbar=False)\n",
        "plt.xlabel(\"Predicted\")\n",
        "plt.ylabel(\"Actual\")\n",
        "plt.title(\"Confusion Matrix (Decision Tree)\")\n",
        "plt.show()\n",
        "class_report = classification_report(y, y_pred)\n",
        "print(\"Classification Report (Decision Tree):\\n\", class_report)"
      ]
    },
    {
      "cell_type": "markdown",
      "id": "aabc68a4",
      "metadata": {
        "id": "aabc68a4"
      },
      "source": [
        "*ANSWER HERE*\n",
        "\n",
        "The results provided indicate that using LinearSVC led to a significant improvement in both training and validation accuracy compared to the original SVC model:\n",
        "\n",
        "SVC achieved a training accuracy of approximately 70.37% and a validation accuracy of around 66.35%.\n",
        "LinearSVC achieved an impressive training accuracy of about 99.02% and a validation accuracy of approximately 95.51%.\n",
        "\n",
        "In terms of whether LinearSVC is a good fit for this dataset, it seems to be a strong candidate. It provides high accuracy, which is typically desired for classification tasks. However, the decision to use LinearSVC or other models depends on other factors, such as the specific goals of the classification, interpretability, and the relative importance of precision, recall, or other metrics. Also, it's important to consider the trade-offs, as a model that achieves high accuracy might not be as robust to variations in the dataset or may overfit."
      ]
    },
    {
      "cell_type": "code",
      "execution_count": null,
      "id": "b036ace3",
      "metadata": {
        "id": "b036ace3"
      },
      "outputs": [],
      "source": []
    }
  ],
  "metadata": {
    "kernelspec": {
      "display_name": "Python 3 (ipykernel)",
      "language": "python",
      "name": "python3"
    },
    "language_info": {
      "codemirror_mode": {
        "name": "ipython",
        "version": 3
      },
      "file_extension": ".py",
      "mimetype": "text/x-python",
      "name": "python",
      "nbconvert_exporter": "python",
      "pygments_lexer": "ipython3",
      "version": "3.11.5"
    },
    "colab": {
      "provenance": []
    }
  },
  "nbformat": 4,
  "nbformat_minor": 5
}